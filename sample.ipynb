{
    "cells": [
        {
            "cell_type": "markdown",
            "id": "fdf599b9",
            "metadata": {},
            "source": [
                "# Numerical resolution near singularities\n",
                "\n",
                "The oscillatory function \n",
                "\n",
                "$$y = y_0+\\sin\\left(\\omega\\ln |x_0-x|\\right)$$ \n",
                "\n",
                "has a logarithmic  singularity at $x=x_0$.\n",
                "\n",
                "We demonstrate how increased numerical resolution is needed to resolve the oscillatory behaviour near the singularity. "
            ]
        },
        {
            "cell_type": "code",
            "execution_count": 2,
            "id": "cc43071c",
            "metadata": {},
            "outputs": [],
            "source": [
                "import numpy as np\n",
                "import matplotlib.pyplot as plt"
            ]
        },
        {
            "cell_type": "code",
            "execution_count": 3,
            "id": "8ced0187",
            "metadata": {},
            "outputs": [],
            "source": ["omega = 2*np.pi\n", "x_0 = 1"]
        },
        {
            "cell_type": "code",
            "execution_count": 4,
            "id": "6f2da964",
            "metadata": {},
            "outputs": [],
            "source": [
                "plt.figure(figsize=(8,8))\n",
                "for n, base in zip([512, 128, 32], [4, 2, 0]):\n",
                "    x = np.linspace(0,x_0,n, endpoint=False)\n",
                "    y = base + np.sin(omega*np.log(np.fabs(x_0-x)))\n",
                "    plt.plot(x,y, '.-', label=f'y_0 = {base}, N={n:3}', lw=1)\n",
                "plt.vlines(1, -1,5, lw=3, color = 'k',label=f'$x=${x_0}')\n",
                "title = plt.title(r'$y = y_0+ \\sin(\\omega\\ln(x_0-x))$'+ '\\nusing different number of gridpoints',\n",
                "                  fontsize=15)\n",
                "plt.ylabel('y')\n",
                "plt.xlabel('x')\n",
                "plt.grid()\n",
                "leg = plt.legend(loc='center left', bbox_to_anchor=(1, 0.5))"
            ]
        }
    ],
    "metadata": {
        "kernelspec": {
            "display_name": "Python 3 (ipykernel)",
            "language": "python",
            "name": "python3"
        },
        "language_info": {
            "codemirror_mode": {
                "name": "ipython",
                "version": 3
            },
            "file_extension": ".py",
            "mimetype": "text/x-python",
            "name": "python",
            "nbconvert_exporter": "python",
            "pygments_lexer": "ipython3",
            "version": "3.8.6"
        }
    },
    "nbformat": 4,
    "nbformat_minor": 5
}
